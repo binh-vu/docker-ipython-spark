{
 "cells": [
  {
   "cell_type": "code",
   "execution_count": 1,
   "metadata": {
    "collapsed": false
   },
   "outputs": [],
   "source": [
    "from time import time\n",
    "\n",
    "def execute(function):\n",
    "    start = time()\n",
    "    function()\n",
    "    stop = time()\n",
    "    \n",
    "    print (stop - start) * 1000, \"ms\""
   ]
  },
  {
   "cell_type": "code",
   "execution_count": 2,
   "metadata": {
    "collapsed": false
   },
   "outputs": [
    {
     "name": "stdout",
     "output_type": "stream",
     "text": [
      "192.795991898 ms\n"
     ]
    }
   ],
   "source": [
    "def f1():\n",
    "    array = range(10000000)\n",
    "\n",
    "execute(f1)"
   ]
  },
  {
   "cell_type": "code",
   "execution_count": 3,
   "metadata": {
    "collapsed": false
   },
   "outputs": [],
   "source": [
    "array = range(10000000)\n",
    "distarray = sc.parallelize(array)"
   ]
  },
  {
   "cell_type": "code",
   "execution_count": 4,
   "metadata": {
    "collapsed": false
   },
   "outputs": [],
   "source": [
    "def heavy_computing(x):\n",
    "    d = {\n",
    "        'x': x * 2\n",
    "    }\n",
    "    if x > 100000:\n",
    "        x = x / 10000\n",
    "        \n",
    "    x = x - d['x'] + x * 4 + x ** 2 - d['x']\n",
    "    m = [x, x ** 2, x ** 3]\n",
    "    \n",
    "    return x\n",
    "\n",
    "def f2():\n",
    "        global array\n",
    "        print sum((heavy_computing(x) for x in array))\n",
    "\n",
    "def f3():\n",
    "        global array\n",
    "        count = 0\n",
    "        for i in array:\n",
    "            count += heavy_computing(i)\n",
    "        print count\n",
    "        \n",
    "# execute(f2)\n",
    "# execute(f3)"
   ]
  },
  {
   "cell_type": "code",
   "execution_count": 6,
   "metadata": {
    "collapsed": false
   },
   "outputs": [
    {
     "name": "stdout",
     "output_type": "stream",
     "text": [
      "136716658499850\n",
      "4476.56607628 ms\n"
     ]
    }
   ],
   "source": [
    "def f4():\n",
    "    global distarray\n",
    "    print distarray.map(lambda x: heavy_computing(x)).reduce(lambda a, b: a + b)\n",
    "\n",
    "execute(f4)"
   ]
  },
  {
   "cell_type": "code",
   "execution_count": null,
   "metadata": {
    "collapsed": true
   },
   "outputs": [],
   "source": []
  }
 ],
 "metadata": {
  "kernelspec": {
   "display_name": "Python 2",
   "language": "python",
   "name": "python2"
  },
  "language_info": {
   "codemirror_mode": {
    "name": "ipython",
    "version": 2
   },
   "file_extension": ".py",
   "mimetype": "text/x-python",
   "name": "python",
   "nbconvert_exporter": "python",
   "pygments_lexer": "ipython2",
   "version": "2.7.6"
  }
 },
 "nbformat": 4,
 "nbformat_minor": 0
}
